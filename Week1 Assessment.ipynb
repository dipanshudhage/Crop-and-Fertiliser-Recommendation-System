# Import libraries
import pandas as pd
import numpy as np

# Read the dataset
df = pd.read_csv('/content/csv sample.csv')  # Make sure the file is uploaded to Colab

# Print first 5 records
print("First 5 records:")
print(df.head())

# Print dataset info
print("\nDataset Info:")
print(df.info())